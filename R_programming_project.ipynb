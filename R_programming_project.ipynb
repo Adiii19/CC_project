{
  "cells": [
    {
      "cell_type": "markdown",
      "metadata": {
        "id": "view-in-github",
        "colab_type": "text"
      },
      "source": [
        "<a href=\"https://colab.research.google.com/github/Adiii19/CC_project/blob/main/R_programming_project.ipynb\" target=\"_parent\"><img src=\"https://colab.research.google.com/assets/colab-badge.svg\" alt=\"Open In Colab\"/></a>"
      ]
    },
    {
      "cell_type": "code",
      "execution_count": 8,
      "metadata": {
        "colab": {
          "base_uri": "https://localhost:8080/",
          "height": 69
        },
        "id": "GQ-ALxIjlP28",
        "outputId": "3fe6edb1-7932-4bfe-b0bb-efe560ccc9ea"
      },
      "outputs": [
        {
          "output_type": "display_data",
          "data": {
            "text/html": [
              "<style>\n",
              ".list-inline {list-style: none; margin:0; padding: 0}\n",
              ".list-inline>li {display: inline-block}\n",
              ".list-inline>li:not(:last-child)::after {content: \"\\00b7\"; padding: 0 .5ex}\n",
              "</style>\n",
              "<ol class=list-inline><li>'Reading package lists...'</li><li>'Building dependency tree...'</li><li>'Reading state information...'</li><li>'libpoppler-cpp-dev is already the newest version (22.02.0-2ubuntu0.6).'</li><li>'0 upgraded, 0 newly installed, 0 to remove and 29 not upgraded.'</li></ol>\n"
            ],
            "text/markdown": "1. 'Reading package lists...'\n2. 'Building dependency tree...'\n3. 'Reading state information...'\n4. 'libpoppler-cpp-dev is already the newest version (22.02.0-2ubuntu0.6).'\n5. '0 upgraded, 0 newly installed, 0 to remove and 29 not upgraded.'\n\n\n",
            "text/latex": "\\begin{enumerate*}\n\\item 'Reading package lists...'\n\\item 'Building dependency tree...'\n\\item 'Reading state information...'\n\\item 'libpoppler-cpp-dev is already the newest version (22.02.0-2ubuntu0.6).'\n\\item '0 upgraded, 0 newly installed, 0 to remove and 29 not upgraded.'\n\\end{enumerate*}\n",
            "text/plain": [
              "[1] \"Reading package lists...\"                                              \n",
              "[2] \"Building dependency tree...\"                                           \n",
              "[3] \"Reading state information...\"                                          \n",
              "[4] \"libpoppler-cpp-dev is already the newest version (22.02.0-2ubuntu0.6).\"\n",
              "[5] \"0 upgraded, 0 newly installed, 0 to remove and 29 not upgraded.\"       "
            ]
          },
          "metadata": {}
        }
      ],
      "source": [
        "# prompt: !apt-get install -y libpoppler-cpp-dev\n",
        "# run this\n",
        "\n",
        "system(\"apt-get install -y libpoppler-cpp-dev\", intern = TRUE)"
      ]
    },
    {
      "cell_type": "code",
      "execution_count": null,
      "metadata": {
        "id": "iiFv07uKo82x"
      },
      "outputs": [],
      "source": []
    },
    {
      "cell_type": "code",
      "execution_count": 9,
      "metadata": {
        "colab": {
          "base_uri": "https://localhost:8080/",
          "height": 69
        },
        "id": "tJZesIG1o9K5",
        "outputId": "fd4699e8-8d96-4fa3-c873-a4c8f4d481d0"
      },
      "outputs": [
        {
          "output_type": "display_data",
          "data": {
            "text/html": [
              "<style>\n",
              ".list-inline {list-style: none; margin:0; padding: 0}\n",
              ".list-inline>li {display: inline-block}\n",
              ".list-inline>li:not(:last-child)::after {content: \"\\00b7\"; padding: 0 .5ex}\n",
              "</style>\n",
              "<ol class=list-inline><li>'Reading package lists...'</li><li>'Building dependency tree...'</li><li>'Reading state information...'</li><li>'libmagick++-dev is already the newest version (8:6.9.11.60+dfsg-1.3ubuntu0.22.04.5).'</li><li>'0 upgraded, 0 newly installed, 0 to remove and 29 not upgraded.'</li></ol>\n"
            ],
            "text/markdown": "1. 'Reading package lists...'\n2. 'Building dependency tree...'\n3. 'Reading state information...'\n4. 'libmagick++-dev is already the newest version (8:6.9.11.60+dfsg-1.3ubuntu0.22.04.5).'\n5. '0 upgraded, 0 newly installed, 0 to remove and 29 not upgraded.'\n\n\n",
            "text/latex": "\\begin{enumerate*}\n\\item 'Reading package lists...'\n\\item 'Building dependency tree...'\n\\item 'Reading state information...'\n\\item 'libmagick++-dev is already the newest version (8:6.9.11.60+dfsg-1.3ubuntu0.22.04.5).'\n\\item '0 upgraded, 0 newly installed, 0 to remove and 29 not upgraded.'\n\\end{enumerate*}\n",
            "text/plain": [
              "[1] \"Reading package lists...\"                                                            \n",
              "[2] \"Building dependency tree...\"                                                         \n",
              "[3] \"Reading state information...\"                                                        \n",
              "[4] \"libmagick++-dev is already the newest version (8:6.9.11.60+dfsg-1.3ubuntu0.22.04.5).\"\n",
              "[5] \"0 upgraded, 0 newly installed, 0 to remove and 29 not upgraded.\"                     "
            ]
          },
          "metadata": {}
        }
      ],
      "source": [
        "# prompt: !apt-get install -y libpoppler-cpp-dev\n",
        "# run this\n",
        "\n",
        "system(\"apt-get install -y libmagick++-dev\", intern = TRUE)"
      ]
    },
    {
      "cell_type": "code",
      "source": [
        "system(\"apt-get install -y libtesseract-dev libleptonica-dev tesseract-ocr\")"
      ],
      "metadata": {
        "id": "53LSCEzECh8W"
      },
      "execution_count": 10,
      "outputs": []
    },
    {
      "cell_type": "code",
      "execution_count": null,
      "metadata": {
        "colab": {
          "base_uri": "https://localhost:8080/"
        },
        "id": "at5o7-ApVqFl",
        "outputId": "f2fc4893-ec80-4e78-cdea-f5f34162f379"
      },
      "outputs": [
        {
          "output_type": "stream",
          "name": "stderr",
          "text": [
            "Installing packages into ‘/usr/local/lib/R/site-library’\n",
            "(as ‘lib’ is unspecified)\n",
            "\n"
          ]
        }
      ],
      "source": [
        "install.packages(c(\"pdftools\", \"stringr\", \"tidytext\", \"dplyr\", \"tm\", \"text2vec\", \"httr\"))\n"
      ]
    },
    {
      "cell_type": "code",
      "execution_count": 11,
      "metadata": {
        "colab": {
          "base_uri": "https://localhost:8080/"
        },
        "id": "UjdI0pE4oo_k",
        "outputId": "88d353b5-a90f-4c0f-833a-d646e4079dbe"
      },
      "outputs": [
        {
          "output_type": "stream",
          "name": "stderr",
          "text": [
            "Installing packages into ‘/usr/local/lib/R/site-library’\n",
            "(as ‘lib’ is unspecified)\n",
            "\n"
          ]
        }
      ],
      "source": [
        "install.packages(c(\"tesseract\", \"magick\"))"
      ]
    },
    {
      "cell_type": "code",
      "execution_count": 12,
      "metadata": {
        "colab": {
          "base_uri": "https://localhost:8080/"
        },
        "id": "sh_6IQP0V3n_",
        "outputId": "a9fc08cc-5e42-47c8-c3b3-1ade0a39d959"
      },
      "outputs": [
        {
          "output_type": "stream",
          "name": "stderr",
          "text": [
            "Linking to ImageMagick 6.9.11.60\n",
            "Enabled features: fontconfig, freetype, fftw, heic, lcms, pango, webp, x11\n",
            "Disabled features: cairo, ghostscript, raw, rsvg\n",
            "\n",
            "Using 2 threads\n",
            "\n"
          ]
        }
      ],
      "source": [
        "library(pdftools)\n",
        "library(stringr)\n",
        "library(tidytext)\n",
        "library(dplyr)\n",
        "library(tm)\n",
        "library(text2vec)\n",
        "library(httr)\n",
        "library(tesseract)\n",
        "library(magick)\n"
      ]
    },
    {
      "cell_type": "code",
      "source": [
        "engine <- tesseract(\"eng\")\n"
      ],
      "metadata": {
        "id": "NwkATq_9D8B2"
      },
      "execution_count": 13,
      "outputs": []
    },
    {
      "cell_type": "code",
      "source": [
        "pdf_convert(\"/content/DBMS_MCQ_Questions.pdf\",\n",
        "            format = \"png\",\n",
        "            pages = NULL, # Convert all pages\n",
        "            filenames = paste0(\"page_\", 1:pdf_info(\"/content/DBMS_MCQ_Questions.pdf\")$pages, \".png\"))"
      ],
      "metadata": {
        "colab": {
          "base_uri": "https://localhost:8080/",
          "height": 138
        },
        "id": "8zdP5JnNEAsy",
        "outputId": "f112c817-edc1-4b3e-a61a-c0a1b04c993d"
      },
      "execution_count": 30,
      "outputs": [
        {
          "output_type": "stream",
          "name": "stdout",
          "text": [
            "Converting page 1 to page_1.png... done!\n",
            "Converting page 2 to page_2.png... done!\n",
            "Converting page 3 to page_3.png... done!\n",
            "Converting page 4 to page_4.png... done!\n",
            "Converting page 5 to page_5.png... done!\n",
            "Converting page 6 to page_6.png... done!\n"
          ]
        },
        {
          "output_type": "display_data",
          "data": {
            "text/html": [
              "<style>\n",
              ".list-inline {list-style: none; margin:0; padding: 0}\n",
              ".list-inline>li {display: inline-block}\n",
              ".list-inline>li:not(:last-child)::after {content: \"\\00b7\"; padding: 0 .5ex}\n",
              "</style>\n",
              "<ol class=list-inline><li>'page_1.png'</li><li>'page_2.png'</li><li>'page_3.png'</li><li>'page_4.png'</li><li>'page_5.png'</li><li>'page_6.png'</li></ol>\n"
            ],
            "text/markdown": "1. 'page_1.png'\n2. 'page_2.png'\n3. 'page_3.png'\n4. 'page_4.png'\n5. 'page_5.png'\n6. 'page_6.png'\n\n\n",
            "text/latex": "\\begin{enumerate*}\n\\item 'page\\_1.png'\n\\item 'page\\_2.png'\n\\item 'page\\_3.png'\n\\item 'page\\_4.png'\n\\item 'page\\_5.png'\n\\item 'page\\_6.png'\n\\end{enumerate*}\n",
            "text/plain": [
              "[1] \"page_1.png\" \"page_2.png\" \"page_3.png\" \"page_4.png\" \"page_5.png\"\n",
              "[6] \"page_6.png\""
            ]
          },
          "metadata": {}
        }
      ]
    },
    {
      "cell_type": "code",
      "source": [
        "for (i in 1:pdf_info(\"/content/DBMS_MCQ_Questions.pdf\")$pages) {\n",
        "  image_path <- paste0(\"page_\", i, \".png\")\n",
        "  image <- image_read(image_path)\n",
        "  text <- ocr(image, engine = engine)\n",
        "\n",
        "  print(text) # Prints with line breaks\n",
        "}"
      ],
      "metadata": {
        "colab": {
          "base_uri": "https://localhost:8080/"
        },
        "id": "YV1iYb5jEZJ4",
        "outputId": "b8e652cd-fab2-4c3a-e760-23caf9186f5e"
      },
      "execution_count": 32,
      "outputs": [
        {
          "output_type": "stream",
          "name": "stdout",
          "text": [
            "[1] \"DBMS MCOs - Page 1\\n1, What is normalization?\\n2, What is a surrogate key?\\n3, What isa clustered index?\\n4, What is @ non-clustered index?\\n'5, What isthe purpose of the EXISTS operator in SQL?\\n6, Which operation combines the results of two queries?\\n7. What is SQL injection?\\n£8, What isthe use of the HAVING clause?\\n9, What isa view in SQL?\\n10. Which normal form removes partial dependency?\\n+1, Which normal form removes partial dependency?\\n412, What is a schema in a database?\\n41, What is a cursor in SQL?\\n14, What is normalization?\\n18, What isthe purpose of the EXISTS operator in SQL?\\n416, What is $QL injection?\\n17. Which normal form removes partial dependency?\\n18, What isthe use of GROUP BY in SQL?\\n419, What is a non-clustered index?\\n20, Which database language is used to define database structure?\\n\"\n",
            "[1] \"DBMS MCOs - Page 2\\n1, What is a deadlock in database transactions?\\n2, What isthe primary key in @ database?\\n3, What is @ schema in a database?\\n4, What is @ deadlock in database transactions?\\n5, What is a composite key?\\n6, What isthe primary key in @ database?\\n7. Which SQL clause is used to sort results?\\n£8, What isthe primary key in @ database?\\n9, What isthe primary key in @ database?\\n410. What is referential integrity?\\n+14, What isthe diference between OLTP and OLAP?\\n412, Which normal form removes partial dependency?\\n18, What isa foreign key?\\n14, What is a composite key?\\n18, What isa foreign key?\\n16, What isthe purpose of an index in a database?\\n17. What isthe difference between CHAR and VARCHAR?\\n18, Which normal form removes partial dependency?\\n419, What is a non-clustered index?\\n20. Which normal form removes partial dependency?\\n\"\n",
            "[1] \"DBMS MCOs - Page 3\\n1. Which operation combines the results of two queries?\\n2, Which command is used to ereate a new database?\\n3, What is @ schema in a database?\\n4, What isthe primary key in @ database?\\n5, Which SQL keyword is used to fetch unique records?\\n6, What isa foreign key?\\n7. What is the purpose of an index in a database?\\n£8, What isa transaction in a database?\\n9, What isa view in SQL?\\n410, What is denormalization?\\n11, What is normalization?\\n412, Which SQL keyword is used to fetch unique records?\\n12, What isthe difference between INNER JOIN and OUTER JOIN?\\n14, What isthe role of a database management system?\\n418, What is a cursor in SQL?\\n16, What isthe difference between CHAR and VARCHAR?\\n17. What is a schema in a database?\\n418, What isthe difference between OLTP and OLAP?\\n19, What is a transaction in a database?\\n20. What s the difference between INNER JOIN and OUTER JOIN?\\n\"\n",
            "[1] \"DBMS MCQs - Page 4\\n1. What is the ole of a database management system?\\n2, What is normalization?\\n3, What isthe difference between DELETE and TRUNCATE in SQL?\\n4, What is @ deadlock in database transactions?\\n5, Which SQL keyword is used to fetch unique records?\\n6, What is a composite key?\\n7. What isa surrogate key?\\n£8, What is an ER model?\\n9, What isthe primary key in @ database?\\n410. What is referential integrity?\\n+11, What is a cursor in SQL?\\n412 What isa foreign key?\\n18, Which normal form removes partial dependency?\\n14, What does ACID stand for in databases?\\n18, What isthe use of the HAVING clause?\\n16, What isa foreign key?\\n17. Which SQL clause is used to sort results?\\n18, What is an entity in a database?\\n419, What is a schema in a database?\\n20, Which SQL keyword is used to fetch unique records?\\n\"\n",
            "[1] \"DBMS MCQs - Page §\\n1, What is a non-clustered index?\\n2, Which SQL clause is used to fier records?\\n3, What isa clustered index?\\n4, Which data model s used in elational databases?\\n5, What is @ schema in a database?\\n6, What is denormalization?\\n7. What is the difference between UNION and UNION ALL?\\n£8, What is normalization?\\n9, Which SOL command is used to update records?\\n410. Which database language is used to define database structure?\\n11, What is a clustered index?\\n12, What isthe difference between OLTP and OLAP?\\n18, Which SQL keyword is used to fetch unique records?\\n14, What is referential integrity?\\n18, What is SQL injection?\\n16, What isthe difference between OLTP and OLAP?\\n17. What isthe difference between OLTP and OLAP?\\n18, Which normal form removes partial dependency?\\n419, Which SQL clause is used to fier records?\\n20, What is a composite key?\\n\"\n",
            "[1] \"DBMS MCQs - Page 6\\n1. What is the difference between DELETE and TRUNCATE in SQL?\\n2, Which SQL keyword is used to fetch unique records?\\n3, What is a composite key?\\n4, What is SQL injection?\\n5, What isthe difference between CHAR and VARCHAR?\\n6, What is SQL injection?\\n7. What isa surrogate key?\\n8, Which SOL clause is used to fiter records?\\n9, What is @ deadlock in database transactions?\\n10. Which SQL keyword is used to fetch unique records?\\n+1, What isthe dliference between INNER JOIN and OUTER JOIN?\\n412, What is an ER model?\\n1, What isthe use of GROUP BY in SQL?\\n14, What is SQL injection?\\n18, Which SQL clause is used to sort results?\\n16, What is referential integrity?\\n17. What isa foreign key?\\n18, Which SQL command is used to update records?\\n419, What is denormalization?\\n20, Whats an ER model?\\n\"\n"
          ]
        }
      ]
    },
    {
      "cell_type": "code",
      "source": [
        "# prompt: every page contains \\n and its various versions . Print the text by adding line breaks accordingly. add a line break after every question while printing\n",
        "\n",
        "# Assuming 'text' variable contains the extracted text from each page.\n",
        "# Replace this with your actual text extraction logic.\n",
        "\n",
        "# Example usage within your loop:\n",
        "for (i in 1:pdf_info(\"/content/DBMS_MCQ_Questions.pdf\")$pages) {\n",
        "  image_path <- paste0(\"page_\", i, \".png\")\n",
        "  image <- image_read(image_path)\n",
        "  text <- ocr(image, engine = engine)\n",
        "\n",
        "  # Split the text into lines based on different line break characters.\n",
        "  lines <- unlist(strsplit(text, \"\\n|\\r\\n|\\r\"))\n",
        "\n",
        "  # Remove empty lines.\n",
        "  lines <- lines[lines != \"\"]\n",
        "\n",
        "  # Iterate over the lines, print each, and add a line break after each question.\n",
        "  for(line in lines){\n",
        "      # Basic heuristic:  Add a line break after lines ending in a question mark.\n",
        "      # You can customize this based on the PDF's actual formatting.\n",
        "      cat(line)\n",
        "      if(grepl(\"\\\\?$\", line)){\n",
        "          cat(\"\\n\")\n",
        "      }\n",
        "  }\n",
        "  # Add an extra newline between pages to separate them\n",
        "  cat(\"\\n\")\n",
        "}"
      ],
      "metadata": {
        "colab": {
          "base_uri": "https://localhost:8080/"
        },
        "id": "1RxhfsrII6yo",
        "outputId": "deb557bf-8e06-4f6d-e756-c38300b471ff"
      },
      "execution_count": 33,
      "outputs": [
        {
          "output_type": "stream",
          "name": "stdout",
          "text": [
            "DBMS MCOs - Page 11, What is normalization?\n",
            "2, What is a surrogate key?\n",
            "3, What isa clustered index?\n",
            "4, What is @ non-clustered index?\n",
            "'5, What isthe purpose of the EXISTS operator in SQL?\n",
            "6, Which operation combines the results of two queries?\n",
            "7. What is SQL injection?\n",
            "£8, What isthe use of the HAVING clause?\n",
            "9, What isa view in SQL?\n",
            "10. Which normal form removes partial dependency?\n",
            "+1, Which normal form removes partial dependency?\n",
            "412, What is a schema in a database?\n",
            "41, What is a cursor in SQL?\n",
            "14, What is normalization?\n",
            "18, What isthe purpose of the EXISTS operator in SQL?\n",
            "416, What is $QL injection?\n",
            "17. Which normal form removes partial dependency?\n",
            "18, What isthe use of GROUP BY in SQL?\n",
            "419, What is a non-clustered index?\n",
            "20, Which database language is used to define database structure?\n",
            "\n",
            "DBMS MCOs - Page 21, What is a deadlock in database transactions?\n",
            "2, What isthe primary key in @ database?\n",
            "3, What is @ schema in a database?\n",
            "4, What is @ deadlock in database transactions?\n",
            "5, What is a composite key?\n",
            "6, What isthe primary key in @ database?\n",
            "7. Which SQL clause is used to sort results?\n",
            "£8, What isthe primary key in @ database?\n",
            "9, What isthe primary key in @ database?\n",
            "410. What is referential integrity?\n",
            "+14, What isthe diference between OLTP and OLAP?\n",
            "412, Which normal form removes partial dependency?\n",
            "18, What isa foreign key?\n",
            "14, What is a composite key?\n",
            "18, What isa foreign key?\n",
            "16, What isthe purpose of an index in a database?\n",
            "17. What isthe difference between CHAR and VARCHAR?\n",
            "18, Which normal form removes partial dependency?\n",
            "419, What is a non-clustered index?\n",
            "20. Which normal form removes partial dependency?\n",
            "\n",
            "DBMS MCOs - Page 31. Which operation combines the results of two queries?\n",
            "2, Which command is used to ereate a new database?\n",
            "3, What is @ schema in a database?\n",
            "4, What isthe primary key in @ database?\n",
            "5, Which SQL keyword is used to fetch unique records?\n",
            "6, What isa foreign key?\n",
            "7. What is the purpose of an index in a database?\n",
            "£8, What isa transaction in a database?\n",
            "9, What isa view in SQL?\n",
            "410, What is denormalization?\n",
            "11, What is normalization?\n",
            "412, Which SQL keyword is used to fetch unique records?\n",
            "12, What isthe difference between INNER JOIN and OUTER JOIN?\n",
            "14, What isthe role of a database management system?\n",
            "418, What is a cursor in SQL?\n",
            "16, What isthe difference between CHAR and VARCHAR?\n",
            "17. What is a schema in a database?\n",
            "418, What isthe difference between OLTP and OLAP?\n",
            "19, What is a transaction in a database?\n",
            "20. What s the difference between INNER JOIN and OUTER JOIN?\n",
            "\n",
            "DBMS MCQs - Page 41. What is the ole of a database management system?\n",
            "2, What is normalization?\n",
            "3, What isthe difference between DELETE and TRUNCATE in SQL?\n",
            "4, What is @ deadlock in database transactions?\n",
            "5, Which SQL keyword is used to fetch unique records?\n",
            "6, What is a composite key?\n",
            "7. What isa surrogate key?\n",
            "£8, What is an ER model?\n",
            "9, What isthe primary key in @ database?\n",
            "410. What is referential integrity?\n",
            "+11, What is a cursor in SQL?\n",
            "412 What isa foreign key?\n",
            "18, Which normal form removes partial dependency?\n",
            "14, What does ACID stand for in databases?\n",
            "18, What isthe use of the HAVING clause?\n",
            "16, What isa foreign key?\n",
            "17. Which SQL clause is used to sort results?\n",
            "18, What is an entity in a database?\n",
            "419, What is a schema in a database?\n",
            "20, Which SQL keyword is used to fetch unique records?\n",
            "\n",
            "DBMS MCQs - Page §1, What is a non-clustered index?\n",
            "2, Which SQL clause is used to fier records?\n",
            "3, What isa clustered index?\n",
            "4, Which data model s used in elational databases?\n",
            "5, What is @ schema in a database?\n",
            "6, What is denormalization?\n",
            "7. What is the difference between UNION and UNION ALL?\n",
            "£8, What is normalization?\n",
            "9, Which SOL command is used to update records?\n",
            "410. Which database language is used to define database structure?\n",
            "11, What is a clustered index?\n",
            "12, What isthe difference between OLTP and OLAP?\n",
            "18, Which SQL keyword is used to fetch unique records?\n",
            "14, What is referential integrity?\n",
            "18, What is SQL injection?\n",
            "16, What isthe difference between OLTP and OLAP?\n",
            "17. What isthe difference between OLTP and OLAP?\n",
            "18, Which normal form removes partial dependency?\n",
            "419, Which SQL clause is used to fier records?\n",
            "20, What is a composite key?\n",
            "\n",
            "DBMS MCQs - Page 61. What is the difference between DELETE and TRUNCATE in SQL?\n",
            "2, Which SQL keyword is used to fetch unique records?\n",
            "3, What is a composite key?\n",
            "4, What is SQL injection?\n",
            "5, What isthe difference between CHAR and VARCHAR?\n",
            "6, What is SQL injection?\n",
            "7. What isa surrogate key?\n",
            "8, Which SOL clause is used to fiter records?\n",
            "9, What is @ deadlock in database transactions?\n",
            "10. Which SQL keyword is used to fetch unique records?\n",
            "+1, What isthe dliference between INNER JOIN and OUTER JOIN?\n",
            "412, What is an ER model?\n",
            "1, What isthe use of GROUP BY in SQL?\n",
            "14, What is SQL injection?\n",
            "18, Which SQL clause is used to sort results?\n",
            "16, What is referential integrity?\n",
            "17. What isa foreign key?\n",
            "18, Which SQL command is used to update records?\n",
            "419, What is denormalization?\n",
            "20, Whats an ER model?\n",
            "\n"
          ]
        }
      ]
    }
  ],
  "metadata": {
    "colab": {
      "provenance": [],
      "authorship_tag": "ABX9TyOQmlrwmVufD3X7JKDt6yPE",
      "include_colab_link": true
    },
    "kernelspec": {
      "display_name": "R",
      "name": "ir"
    },
    "language_info": {
      "name": "R"
    }
  },
  "nbformat": 4,
  "nbformat_minor": 0
}